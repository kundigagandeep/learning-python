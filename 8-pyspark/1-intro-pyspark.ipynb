{
 "cells": [
  {
   "cell_type": "code",
   "execution_count": null,
   "metadata": {},
   "outputs": [],
   "source": [
    "#!pip install pyspark"
   ]
  },
  {
   "cell_type": "markdown",
   "metadata": {},
   "source": [
    "How to set up PySpark on Mac: https://sparkbyexamples.com/pyspark/how-to-install-pyspark-on-mac/"
   ]
  },
  {
   "cell_type": "code",
   "execution_count": 4,
   "metadata": {},
   "outputs": [
    {
     "name": "stderr",
     "output_type": "stream",
     "text": [
      "Setting default log level to \"WARN\".\n",
      "To adjust logging level use sc.setLogLevel(newLevel). For SparkR, use setLogLevel(newLevel).\n"
     ]
    },
    {
     "name": "stdout",
     "output_type": "stream",
     "text": [
      "22/11/07 09:05:25 WARN NativeCodeLoader: Unable to load native-hadoop library for your platform... using builtin-java classes where applicable\n"
     ]
    }
   ],
   "source": [
    "from pyspark.sql import SparkSession\n",
    "\n",
    "spark = SparkSession.builder.appName(\"PySpark Introduction\").config(\"spark.some.config.option\", \"some-value\").getOrCreate()"
   ]
  },
  {
   "cell_type": "code",
   "execution_count": 74,
   "metadata": {},
   "outputs": [
    {
     "data": {
      "text/html": [
       "\n",
       "            <div>\n",
       "                <p><b>SparkSession - in-memory</b></p>\n",
       "                \n",
       "        <div>\n",
       "            <p><b>SparkContext</b></p>\n",
       "\n",
       "            <p><a href=\"http://192.168.0.228:4040\">Spark UI</a></p>\n",
       "\n",
       "            <dl>\n",
       "              <dt>Version</dt>\n",
       "                <dd><code>v3.3.0</code></dd>\n",
       "              <dt>Master</dt>\n",
       "                <dd><code>local[*]</code></dd>\n",
       "              <dt>AppName</dt>\n",
       "                <dd><code>PySpark Introduction</code></dd>\n",
       "            </dl>\n",
       "        </div>\n",
       "        \n",
       "            </div>\n",
       "        "
      ],
      "text/plain": [
       "<pyspark.sql.session.SparkSession at 0x7fb151130430>"
      ]
     },
     "execution_count": 74,
     "metadata": {},
     "output_type": "execute_result"
    }
   ],
   "source": [
    "spark"
   ]
  },
  {
   "cell_type": "code",
   "execution_count": 65,
   "metadata": {},
   "outputs": [
    {
     "name": "stdout",
     "output_type": "stream",
     "text": [
      "+------------+-------+------------------+-------------------+------------+------------------+-----------+----------+---------+-----+------+-----------+-------------+---------------+-------------+-----------------+\n",
      "|Manufacturer|  Model|Sales_in_thousands|__year_resale_value|Vehicle_type|Price_in_thousands|Engine_size|Horsepower|Wheelbase|Width|Length|Curb_weight|Fuel_capacity|Fuel_efficiency|Latest_Launch|Power_perf_factor|\n",
      "+------------+-------+------------------+-------------------+------------+------------------+-----------+----------+---------+-----+------+-----------+-------------+---------------+-------------+-----------------+\n",
      "|       Acura|Integra|            16.919|              16.36|   Passenger|              21.5|        1.8|       140|    101.2| 67.3| 172.4|      2.639|         13.2|             28|     2/2/2012|      58.28014952|\n",
      "|       Acura|     TL|            39.384|             19.875|   Passenger|              28.4|        3.2|       225|    108.1| 70.3| 192.9|      3.517|         17.2|             25|     6/3/2011|      91.37077766|\n",
      "|       Acura|     CL|            14.114|             18.225|   Passenger|              null|        3.2|       225|    106.9| 70.6| 192.0|       3.47|         17.2|             26|     1/4/2012|             null|\n",
      "|       Acura|     RL|             8.588|             29.725|   Passenger|              42.0|        3.5|       210|    114.6| 71.4| 196.6|       3.85|         18.0|             22|    3/10/2011|      91.38977933|\n",
      "|        Audi|     A4|            20.397|             22.255|   Passenger|             23.99|        1.8|       150|    102.6| 68.2| 178.0|      2.998|         16.4|             27|    10/8/2011|       62.7776392|\n",
      "+------------+-------+------------------+-------------------+------------+------------------+-----------+----------+---------+-----+------+-----------+-------------+---------------+-------------+-----------------+\n",
      "only showing top 5 rows\n",
      "\n"
     ]
    }
   ],
   "source": [
    "df = spark.read.csv('/Users/gagandeepkundi/Downloads/Car_sales.csv', header=True,inferSchema=True)\n",
    "\n",
    "df.show(5)"
   ]
  },
  {
   "cell_type": "code",
   "execution_count": 66,
   "metadata": {},
   "outputs": [
    {
     "data": {
      "text/plain": [
       "16"
      ]
     },
     "execution_count": 66,
     "metadata": {},
     "output_type": "execute_result"
    }
   ],
   "source": [
    "len(df.columns)"
   ]
  },
  {
   "cell_type": "code",
   "execution_count": 67,
   "metadata": {},
   "outputs": [
    {
     "data": {
      "text/plain": [
       "['Manufacturer', 'Model']"
      ]
     },
     "execution_count": 67,
     "metadata": {},
     "output_type": "execute_result"
    }
   ],
   "source": [
    "[i for i in df.columns if 'M' in i]"
   ]
  },
  {
   "cell_type": "code",
   "execution_count": 71,
   "metadata": {},
   "outputs": [],
   "source": [
    "column_to_drop = [i for i in df.columns if 'M' in i]\n",
    "\n",
    "df2 = df.drop(*column_to_drop)"
   ]
  },
  {
   "cell_type": "code",
   "execution_count": 72,
   "metadata": {},
   "outputs": [
    {
     "data": {
      "text/plain": [
       "14"
      ]
     },
     "execution_count": 72,
     "metadata": {},
     "output_type": "execute_result"
    }
   ],
   "source": [
    "len(df2.columns)"
   ]
  },
  {
   "cell_type": "code",
   "execution_count": 73,
   "metadata": {},
   "outputs": [
    {
     "name": "stdout",
     "output_type": "stream",
     "text": [
      "+------------------+-------------------+------------+------------------+-----------+----------+---------+-----+------+-----------+-------------+---------------+-------------+-----------------+\n",
      "|Sales_in_thousands|__year_resale_value|Vehicle_type|Price_in_thousands|Engine_size|Horsepower|Wheelbase|Width|Length|Curb_weight|Fuel_capacity|Fuel_efficiency|Latest_Launch|Power_perf_factor|\n",
      "+------------------+-------------------+------------+------------------+-----------+----------+---------+-----+------+-----------+-------------+---------------+-------------+-----------------+\n",
      "|            16.919|              16.36|   Passenger|              21.5|        1.8|       140|    101.2| 67.3| 172.4|      2.639|         13.2|             28|     2/2/2012|      58.28014952|\n",
      "|            39.384|             19.875|   Passenger|              28.4|        3.2|       225|    108.1| 70.3| 192.9|      3.517|         17.2|             25|     6/3/2011|      91.37077766|\n",
      "|            14.114|             18.225|   Passenger|              null|        3.2|       225|    106.9| 70.6| 192.0|       3.47|         17.2|             26|     1/4/2012|             null|\n",
      "|             8.588|             29.725|   Passenger|              42.0|        3.5|       210|    114.6| 71.4| 196.6|       3.85|         18.0|             22|    3/10/2011|      91.38977933|\n",
      "|            20.397|             22.255|   Passenger|             23.99|        1.8|       150|    102.6| 68.2| 178.0|      2.998|         16.4|             27|    10/8/2011|       62.7776392|\n",
      "|             18.78|             23.555|   Passenger|             33.95|        2.8|       200|    108.7| 76.1| 192.0|      3.561|         18.5|             22|     8/9/2011|      84.56510502|\n",
      "|              1.38|               39.0|   Passenger|              62.0|        4.2|       310|    113.0| 74.0| 198.2|      3.902|         23.7|             21|    2/27/2012|      134.6568582|\n",
      "|            19.747|               null|   Passenger|             26.99|        2.5|       170|    107.3| 68.4| 176.0|      3.179|         16.6|             26|    6/28/2011|      71.19120671|\n",
      "|             9.231|             28.675|   Passenger|              33.4|        2.8|       193|    107.3| 68.5| 176.0|      3.197|         16.6|             24|    1/29/2012|      81.87706856|\n",
      "|            17.527|             36.125|   Passenger|              38.9|        2.8|       193|    111.4| 70.9| 188.0|      3.472|         18.5|             25|     4/4/2011|       83.9987238|\n",
      "|            91.561|             12.475|   Passenger|            21.975|        3.1|       175|    109.0| 72.7| 194.6|      3.368|         17.5|             25|    11/2/2011|      71.18145132|\n",
      "|             39.35|              13.74|   Passenger|              25.3|        3.8|       240|    109.0| 72.7| 196.2|      3.543|         17.5|             23|     9/3/2011|      95.63670253|\n",
      "|            27.851|              20.19|   Passenger|            31.965|        3.8|       205|    113.8| 74.7| 206.8|      3.778|         18.5|             24|    3/23/2012|      85.82840825|\n",
      "|            83.257|              13.36|   Passenger|            27.885|        3.8|       205|    112.2| 73.5| 200.0|      3.591|         17.5|             25|    7/23/2011|      84.25452581|\n",
      "|            63.729|             22.525|   Passenger|            39.895|        4.6|       275|    115.3| 74.5| 207.2|      3.978|         18.5|             22|    2/23/2012|      113.8545976|\n",
      "|            15.943|               27.1|   Passenger|            44.475|        4.6|       275|    112.2| 75.0| 201.0|       null|         18.5|             22|    4/29/2011|      115.6213578|\n",
      "|             6.536|             25.725|   Passenger|            39.665|        4.6|       275|    108.0| 75.5| 200.6|      3.843|         19.0|             22|   11/27/2011|      113.7658739|\n",
      "|            11.185|             18.225|   Passenger|             31.01|        3.0|       200|    107.4| 70.3| 194.8|       3.77|         18.0|             22|    9/28/2011|      83.48309358|\n",
      "|            14.785|               null|         Car|            46.225|        5.7|       255|    117.5| 77.0| 201.2|      5.572|         30.0|             15|    4/17/2012|      109.5091165|\n",
      "|           145.519|               9.25|   Passenger|             13.26|        2.2|       115|    104.1| 67.9| 180.9|      2.676|         14.3|             27|    8/17/2011|      46.36334747|\n",
      "+------------------+-------------------+------------+------------------+-----------+----------+---------+-----+------+-----------+-------------+---------------+-------------+-----------------+\n",
      "only showing top 20 rows\n",
      "\n"
     ]
    },
    {
     "name": "stdout",
     "output_type": "stream",
     "text": [
      "22/11/07 20:14:28 WARN HeartbeatReceiver: Removing executor driver with no recent heartbeats: 448550 ms exceeds timeout 120000 ms\n",
      "22/11/07 20:14:28 WARN SparkContext: Killing executors is not supported by current scheduler.\n"
     ]
    }
   ],
   "source": [
    "df2.show()"
   ]
  },
  {
   "cell_type": "code",
   "execution_count": null,
   "metadata": {},
   "outputs": [],
   "source": []
  }
 ],
 "metadata": {
  "kernelspec": {
   "display_name": "Python 3.9.12 ('base')",
   "language": "python",
   "name": "python3"
  },
  "language_info": {
   "codemirror_mode": {
    "name": "ipython",
    "version": 3
   },
   "file_extension": ".py",
   "mimetype": "text/x-python",
   "name": "python",
   "nbconvert_exporter": "python",
   "pygments_lexer": "ipython3",
   "version": "3.9.12"
  },
  "orig_nbformat": 4,
  "vscode": {
   "interpreter": {
    "hash": "2df62601e34b052a7879d49aa284d4570bc3c14c324ffab886cde46341e00144"
   }
  }
 },
 "nbformat": 4,
 "nbformat_minor": 2
}
